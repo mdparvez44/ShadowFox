{
 "cells": [
  {
   "cell_type": "code",
   "execution_count": 1,
   "id": "d505d18d",
   "metadata": {
    "_cell_guid": "b1076dfc-b9ad-4769-8c92-a6c4dae69d19",
    "_uuid": "8f2839f25d086af736a60e9eeb907d3b93b6e0e5",
    "execution": {
     "iopub.execute_input": "2025-03-12T12:13:58.717576Z",
     "iopub.status.busy": "2025-03-12T12:13:58.717184Z",
     "iopub.status.idle": "2025-03-12T12:14:20.739502Z",
     "shell.execute_reply": "2025-03-12T12:14:20.738492Z"
    },
    "papermill": {
     "duration": 22.029709,
     "end_time": "2025-03-12T12:14:20.741382",
     "exception": false,
     "start_time": "2025-03-12T12:13:58.711673",
     "status": "completed"
    },
    "tags": []
   },
   "outputs": [
    {
     "name": "stdout",
     "output_type": "stream",
     "text": [
      "Downloading data from https://www.cs.toronto.edu/~kriz/cifar-10-python.tar.gz\n",
      "\u001b[1m170498071/170498071\u001b[0m \u001b[32m━━━━━━━━━━━━━━━━━━━━\u001b[0m\u001b[37m\u001b[0m \u001b[1m4s\u001b[0m 0us/step\n"
     ]
    }
   ],
   "source": [
    " import tensorflow as tf\n",
    "from tensorflow.keras import layers,models\n",
    "import matplotlib.pyplot as plt\n",
    "\n",
    "(train_img, train_labl),(test_img, test_labl)=tf.keras.datasets.cifar10.load_data()"
   ]
  },
  {
   "cell_type": "code",
   "execution_count": 2,
   "id": "a126b125",
   "metadata": {
    "execution": {
     "iopub.execute_input": "2025-03-12T12:14:20.758665Z",
     "iopub.status.busy": "2025-03-12T12:14:20.758029Z",
     "iopub.status.idle": "2025-03-12T12:14:21.461696Z",
     "shell.execute_reply": "2025-03-12T12:14:21.460698Z"
    },
    "papermill": {
     "duration": 0.713776,
     "end_time": "2025-03-12T12:14:21.463473",
     "exception": false,
     "start_time": "2025-03-12T12:14:20.749697",
     "status": "completed"
    },
    "tags": []
   },
   "outputs": [],
   "source": [
    "train_img,test_img = train_img/255.0,test_img/255.0\n",
    "train_labl = tf.keras.utils.to_categorical(train_labl,10)\n",
    "test_labl = tf.keras.utils.to_categorical(test_labl,10)"
   ]
  },
  {
   "cell_type": "code",
   "execution_count": 3,
   "id": "48517632",
   "metadata": {
    "execution": {
     "iopub.execute_input": "2025-03-12T12:14:21.480063Z",
     "iopub.status.busy": "2025-03-12T12:14:21.479674Z",
     "iopub.status.idle": "2025-03-12T12:14:21.484028Z",
     "shell.execute_reply": "2025-03-12T12:14:21.483182Z"
    },
    "papermill": {
     "duration": 0.014159,
     "end_time": "2025-03-12T12:14:21.485550",
     "exception": false,
     "start_time": "2025-03-12T12:14:21.471391",
     "status": "completed"
    },
    "tags": []
   },
   "outputs": [],
   "source": [
    "names = ['airplane', 'automobile','bird','cat','deer','dog','frog','horse','ship','truck']\n"
   ]
  },
  {
   "cell_type": "code",
   "execution_count": 4,
   "id": "a331147e",
   "metadata": {
    "execution": {
     "iopub.execute_input": "2025-03-12T12:14:21.501739Z",
     "iopub.status.busy": "2025-03-12T12:14:21.501405Z",
     "iopub.status.idle": "2025-03-12T12:14:21.612553Z",
     "shell.execute_reply": "2025-03-12T12:14:21.611399Z"
    },
    "papermill": {
     "duration": 0.121028,
     "end_time": "2025-03-12T12:14:21.614168",
     "exception": false,
     "start_time": "2025-03-12T12:14:21.493140",
     "status": "completed"
    },
    "tags": []
   },
   "outputs": [
    {
     "name": "stderr",
     "output_type": "stream",
     "text": [
      "/usr/local/lib/python3.10/dist-packages/keras/src/layers/convolutional/base_conv.py:107: UserWarning: Do not pass an `input_shape`/`input_dim` argument to a layer. When using Sequential models, prefer using an `Input(shape)` object as the first layer in the model instead.\n",
      "  super().__init__(activity_regularizer=activity_regularizer, **kwargs)\n"
     ]
    }
   ],
   "source": [
    "model = models.Sequential([\n",
    "    layers.Conv2D(32,(3,3),activation='relu',input_shape=(32,32,3)),\n",
    "    layers.MaxPooling2D((2,2)),\n",
    "    layers.Conv2D(64,(3,3), activation='relu'),\n",
    "    layers.MaxPooling2D((2,2)),\n",
    "    layers.Conv2D(128,(3,3), activation='relu'),\n",
    "    layers.Flatten(),\n",
    "    layers.Dense(128,activation='relu'),\n",
    "    layers.Dense(10,activation='softmax')\n",
    "])"
   ]
  },
  {
   "cell_type": "code",
   "execution_count": 5,
   "id": "646d70b8",
   "metadata": {
    "execution": {
     "iopub.execute_input": "2025-03-12T12:14:21.630871Z",
     "iopub.status.busy": "2025-03-12T12:14:21.630501Z",
     "iopub.status.idle": "2025-03-12T12:14:21.644036Z",
     "shell.execute_reply": "2025-03-12T12:14:21.643081Z"
    },
    "papermill": {
     "duration": 0.023916,
     "end_time": "2025-03-12T12:14:21.645857",
     "exception": false,
     "start_time": "2025-03-12T12:14:21.621941",
     "status": "completed"
    },
    "tags": []
   },
   "outputs": [],
   "source": [
    "model.compile(optimizer='adam',\n",
    "             loss='categorical_crossentropy',\n",
    "             metrics=['accuracy'])"
   ]
  },
  {
   "cell_type": "code",
   "execution_count": 6,
   "id": "1768dab6",
   "metadata": {
    "execution": {
     "iopub.execute_input": "2025-03-12T12:14:21.662794Z",
     "iopub.status.busy": "2025-03-12T12:14:21.662420Z",
     "iopub.status.idle": "2025-03-12T12:20:54.854937Z",
     "shell.execute_reply": "2025-03-12T12:20:54.853868Z"
    },
    "papermill": {
     "duration": 393.203076,
     "end_time": "2025-03-12T12:20:54.856825",
     "exception": false,
     "start_time": "2025-03-12T12:14:21.653749",
     "status": "completed"
    },
    "tags": []
   },
   "outputs": [
    {
     "name": "stdout",
     "output_type": "stream",
     "text": [
      "Epoch 1/10\n",
      "\u001b[1m1563/1563\u001b[0m \u001b[32m━━━━━━━━━━━━━━━━━━━━\u001b[0m\u001b[37m\u001b[0m \u001b[1m40s\u001b[0m 25ms/step - accuracy: 0.3703 - loss: 1.6945 - val_accuracy: 0.5765 - val_loss: 1.1754\n",
      "Epoch 2/10\n",
      "\u001b[1m1563/1563\u001b[0m \u001b[32m━━━━━━━━━━━━━━━━━━━━\u001b[0m\u001b[37m\u001b[0m \u001b[1m39s\u001b[0m 25ms/step - accuracy: 0.6102 - loss: 1.1085 - val_accuracy: 0.6385 - val_loss: 1.0245\n",
      "Epoch 3/10\n",
      "\u001b[1m1563/1563\u001b[0m \u001b[32m━━━━━━━━━━━━━━━━━━━━\u001b[0m\u001b[37m\u001b[0m \u001b[1m38s\u001b[0m 25ms/step - accuracy: 0.6768 - loss: 0.9237 - val_accuracy: 0.6690 - val_loss: 0.9444\n",
      "Epoch 4/10\n",
      "\u001b[1m1563/1563\u001b[0m \u001b[32m━━━━━━━━━━━━━━━━━━━━\u001b[0m\u001b[37m\u001b[0m \u001b[1m38s\u001b[0m 25ms/step - accuracy: 0.7249 - loss: 0.7843 - val_accuracy: 0.7013 - val_loss: 0.8520\n",
      "Epoch 5/10\n",
      "\u001b[1m1563/1563\u001b[0m \u001b[32m━━━━━━━━━━━━━━━━━━━━\u001b[0m\u001b[37m\u001b[0m \u001b[1m39s\u001b[0m 25ms/step - accuracy: 0.7597 - loss: 0.6907 - val_accuracy: 0.7104 - val_loss: 0.8382\n",
      "Epoch 6/10\n",
      "\u001b[1m1563/1563\u001b[0m \u001b[32m━━━━━━━━━━━━━━━━━━━━\u001b[0m\u001b[37m\u001b[0m \u001b[1m39s\u001b[0m 25ms/step - accuracy: 0.7889 - loss: 0.6036 - val_accuracy: 0.7108 - val_loss: 0.8546\n",
      "Epoch 7/10\n",
      "\u001b[1m1563/1563\u001b[0m \u001b[32m━━━━━━━━━━━━━━━━━━━━\u001b[0m\u001b[37m\u001b[0m \u001b[1m39s\u001b[0m 25ms/step - accuracy: 0.8168 - loss: 0.5248 - val_accuracy: 0.7029 - val_loss: 0.9131\n",
      "Epoch 8/10\n",
      "\u001b[1m1563/1563\u001b[0m \u001b[32m━━━━━━━━━━━━━━━━━━━━\u001b[0m\u001b[37m\u001b[0m \u001b[1m41s\u001b[0m 25ms/step - accuracy: 0.8343 - loss: 0.4688 - val_accuracy: 0.7060 - val_loss: 0.9330\n",
      "Epoch 9/10\n",
      "\u001b[1m1563/1563\u001b[0m \u001b[32m━━━━━━━━━━━━━━━━━━━━\u001b[0m\u001b[37m\u001b[0m \u001b[1m39s\u001b[0m 25ms/step - accuracy: 0.8646 - loss: 0.3849 - val_accuracy: 0.7081 - val_loss: 0.9763\n",
      "Epoch 10/10\n",
      "\u001b[1m1563/1563\u001b[0m \u001b[32m━━━━━━━━━━━━━━━━━━━━\u001b[0m\u001b[37m\u001b[0m \u001b[1m39s\u001b[0m 25ms/step - accuracy: 0.8812 - loss: 0.3374 - val_accuracy: 0.7043 - val_loss: 1.0970\n"
     ]
    }
   ],
   "source": [
    "hstr=model.fit(train_img,train_labl,epochs=10,validation_data=(test_img,test_labl))"
   ]
  },
  {
   "cell_type": "code",
   "execution_count": 7,
   "id": "37286677",
   "metadata": {
    "execution": {
     "iopub.execute_input": "2025-03-12T12:20:55.553691Z",
     "iopub.status.busy": "2025-03-12T12:20:55.553308Z",
     "iopub.status.idle": "2025-03-12T12:20:58.316411Z",
     "shell.execute_reply": "2025-03-12T12:20:58.315238Z"
    },
    "papermill": {
     "duration": 3.080321,
     "end_time": "2025-03-12T12:20:58.318071",
     "exception": false,
     "start_time": "2025-03-12T12:20:55.237750",
     "status": "completed"
    },
    "tags": []
   },
   "outputs": [
    {
     "name": "stdout",
     "output_type": "stream",
     "text": [
      "313/313 - 2s - 8ms/step - accuracy: 0.7043 - loss: 1.0970\n",
      "\n",
      "Test accuracy: 0.7042999863624573\n"
     ]
    }
   ],
   "source": [
    "test_loss, test_acc = model.evaluate(test_img,test_labl,verbose=2)\n",
    "print('\\nTest accuracy:',test_acc)"
   ]
  },
  {
   "cell_type": "code",
   "execution_count": 8,
   "id": "dd7f9420",
   "metadata": {
    "execution": {
     "iopub.execute_input": "2025-03-12T12:20:58.939728Z",
     "iopub.status.busy": "2025-03-12T12:20:58.939169Z",
     "iopub.status.idle": "2025-03-12T12:20:58.944132Z",
     "shell.execute_reply": "2025-03-12T12:20:58.943284Z"
    },
    "papermill": {
     "duration": 0.318505,
     "end_time": "2025-03-12T12:20:58.945774",
     "exception": false,
     "start_time": "2025-03-12T12:20:58.627269",
     "status": "completed"
    },
    "tags": []
   },
   "outputs": [],
   "source": [
    "acc =hstr.history['accuracy']\n",
    "val_acc =hstr.history['val_accuracy']\n",
    "loss =hstr.history['loss']\n",
    "val_loss =hstr.history['val_loss']"
   ]
  },
  {
   "cell_type": "code",
   "execution_count": 9,
   "id": "25ef9bf0",
   "metadata": {
    "execution": {
     "iopub.execute_input": "2025-03-12T12:20:59.635444Z",
     "iopub.status.busy": "2025-03-12T12:20:59.634865Z",
     "iopub.status.idle": "2025-03-12T12:20:59.639697Z",
     "shell.execute_reply": "2025-03-12T12:20:59.638639Z"
    },
    "papermill": {
     "duration": 0.381283,
     "end_time": "2025-03-12T12:20:59.641357",
     "exception": false,
     "start_time": "2025-03-12T12:20:59.260074",
     "status": "completed"
    },
    "tags": []
   },
   "outputs": [],
   "source": [
    "epochs = range(1,len(acc)+1)"
   ]
  },
  {
   "cell_type": "code",
   "execution_count": 10,
   "id": "5e94f911",
   "metadata": {
    "execution": {
     "iopub.execute_input": "2025-03-12T12:21:00.267285Z",
     "iopub.status.busy": "2025-03-12T12:21:00.266879Z",
     "iopub.status.idle": "2025-03-12T12:21:00.619240Z",
     "shell.execute_reply": "2025-03-12T12:21:00.618219Z"
    },
    "papermill": {
     "duration": 0.670344,
     "end_time": "2025-03-12T12:21:00.621117",
     "exception": false,
     "start_time": "2025-03-12T12:20:59.950773",
     "status": "completed"
    },
    "tags": []
   },
   "outputs": [
    {
     "data": {
      "text/plain": [
       "<matplotlib.legend.Legend at 0x79a48ad45060>"
      ]
     },
     "execution_count": 10,
     "metadata": {},
     "output_type": "execute_result"
    },
    {
     "data": {
      "image/png": "[encoded data removed]",
      "text/plain": [
       "<Figure size 1200x400 with 1 Axes>"
      ]
     },
     "metadata": {},
     "output_type": "display_data"
    }
   ],
   "source": [
    "plt.figure(figsize=(12, 4))\n",
    "plt.subplot(1, 2, 1)\n",
    "plt.plot(epochs, acc, 'b', label='Training accuracy')\n",
    "plt.plot(epochs, val_acc, 'r', label='Validation accuracy')\n",
    "plt.title('Training and validation accuracy')\n",
    "plt.xlabel('Epochs')\n",
    "plt.ylabel('Accuracy')\n",
    "plt.legend()"
   ]
  },
  {
   "cell_type": "code",
   "execution_count": 11,
   "id": "ff759ce3",
   "metadata": {
    "execution": {
     "iopub.execute_input": "2025-03-12T12:21:01.314667Z",
     "iopub.status.busy": "2025-03-12T12:21:01.314298Z",
     "iopub.status.idle": "2025-03-12T12:21:01.550901Z",
     "shell.execute_reply": "2025-03-12T12:21:01.549751Z"
    },
    "papermill": {
     "duration": 0.616819,
     "end_time": "2025-03-12T12:21:01.552621",
     "exception": false,
     "start_time": "2025-03-12T12:21:00.935802",
     "status": "completed"
    },
    "tags": []
   },
   "outputs": [
    {
     "data": {
      "text/plain": [
       "<matplotlib.legend.Legend at 0x79a48946b460>"
      ]
     },
     "execution_count": 11,
     "metadata": {},
     "output_type": "execute_result"
    },
    {
     "data": {
      "image/png": "[encoded data removed]",
      "text/plain": [
       "<Figure size 640x480 with 1 Axes>"
      ]
     },
     "metadata": {},
     "output_type": "display_data"
    }
   ],
   "source": [
    "plt.subplot(1, 2, 2)\n",
    "plt.plot(epochs, loss, 'b', label='Training loss')\n",
    "plt.plot(epochs, val_loss, 'r', label='Validation loss')\n",
    "plt.title('Training and validation loss')\n",
    "plt.xlabel('Epochs')\n",
    "plt.ylabel('Loss')\n",
    "plt.legend()"
   ]
  },
  {
   "cell_type": "code",
   "execution_count": 12,
   "id": "f7820132",
   "metadata": {
    "execution": {
     "iopub.execute_input": "2025-03-12T12:21:02.178409Z",
     "iopub.status.busy": "2025-03-12T12:21:02.178018Z",
     "iopub.status.idle": "2025-03-12T12:21:02.182168Z",
     "shell.execute_reply": "2025-03-12T12:21:02.181301Z"
    },
    "papermill": {
     "duration": 0.319607,
     "end_time": "2025-03-12T12:21:02.183743",
     "exception": false,
     "start_time": "2025-03-12T12:21:01.864136",
     "status": "completed"
    },
    "tags": []
   },
   "outputs": [],
   "source": [
    "import numpy as np"
   ]
  },
  {
   "cell_type": "code",
   "execution_count": 13,
   "id": "c299d0b6",
   "metadata": {
    "execution": {
     "iopub.execute_input": "2025-03-12T12:21:02.807829Z",
     "iopub.status.busy": "2025-03-12T12:21:02.807491Z",
     "iopub.status.idle": "2025-03-12T12:21:02.811935Z",
     "shell.execute_reply": "2025-03-12T12:21:02.810837Z"
    },
    "papermill": {
     "duration": 0.318484,
     "end_time": "2025-03-12T12:21:02.813512",
     "exception": false,
     "start_time": "2025-03-12T12:21:02.495028",
     "status": "completed"
    },
    "tags": []
   },
   "outputs": [],
   "source": [
    "img_index = 0 \n",
    "img = test_img[img_index]\n",
    "true_labl = names[np.argmax(test_labl[img_index])]"
   ]
  },
  {
   "cell_type": "code",
   "execution_count": 14,
   "id": "35b155ce",
   "metadata": {
    "execution": {
     "iopub.execute_input": "2025-03-12T12:21:03.501088Z",
     "iopub.status.busy": "2025-03-12T12:21:03.500636Z",
     "iopub.status.idle": "2025-03-12T12:21:03.505151Z",
     "shell.execute_reply": "2025-03-12T12:21:03.503868Z"
    },
    "papermill": {
     "duration": 0.323629,
     "end_time": "2025-03-12T12:21:03.507045",
     "exception": false,
     "start_time": "2025-03-12T12:21:03.183416",
     "status": "completed"
    },
    "tags": []
   },
   "outputs": [],
   "source": [
    "img = np.expand_dims(img, axis=0)"
   ]
  },
  {
   "cell_type": "code",
   "execution_count": 15,
   "id": "e2b9fead",
   "metadata": {
    "execution": {
     "iopub.execute_input": "2025-03-12T12:21:04.164657Z",
     "iopub.status.busy": "2025-03-12T12:21:04.164279Z",
     "iopub.status.idle": "2025-03-12T12:21:04.307715Z",
     "shell.execute_reply": "2025-03-12T12:21:04.306776Z"
    },
    "papermill": {
     "duration": 0.460971,
     "end_time": "2025-03-12T12:21:04.309356",
     "exception": false,
     "start_time": "2025-03-12T12:21:03.848385",
     "status": "completed"
    },
    "tags": []
   },
   "outputs": [
    {
     "name": "stdout",
     "output_type": "stream",
     "text": [
      "\u001b[1m1/1\u001b[0m \u001b[32m━━━━━━━━━━━━━━━━━━━━\u001b[0m\u001b[37m\u001b[0m \u001b[1m0s\u001b[0m 88ms/step\n",
      "True Label: cat\n",
      "Predicted Label: cat\n"
     ]
    }
   ],
   "source": [
    "predictions = model.predict(img)\n",
    "predicted_labl = names[np.argmax(predictions[0])]\n",
    "print(f\"True Label: {true_labl}\")\n",
    "print(f\"Predicted Label: {predicted_labl}\")"
   ]
  }
 ],
 "metadata": {
  "kaggle": {
   "accelerator": "none",
   "dataSources": [
    {
     "datasetId": 6844485,
     "sourceId": 10995649,
     "sourceType": "datasetVersion"
    }
   ],
   "dockerImageVersionId": 30918,
   "isGpuEnabled": false,
   "isInternetEnabled": true,
   "language": "python",
   "sourceType": "notebook"
  },
  "kernelspec": {
   "display_name": "Python 3",
   "language": "python",
   "name": "python3"
  },
  "language_info": {
   "codemirror_mode": {
    "name": "ipython",
    "version": 3
   },
   "file_extension": ".py",
   "mimetype": "text/x-python",
   "name": "python",
   "nbconvert_exporter": "python",
   "pygments_lexer": "ipython3",
   "version": "3.10.12"
  },
  "papermill": {
   "default_parameters": {},
   "duration": 431.291228,
   "end_time": "2025-03-12T12:21:07.272504",
   "environment_variables": {},
   "exception": null,
   "input_path": "__notebook__.ipynb",
   "output_path": "__notebook__.ipynb",
   "parameters": {},
   "start_time": "2025-03-12T12:13:55.981276",
   "version": "2.6.0"
  }
 },
 "nbformat": 4,
 "nbformat_minor": 5
}
